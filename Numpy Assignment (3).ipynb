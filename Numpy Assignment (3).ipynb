{
 "cells": [
  {
   "cell_type": "code",
   "execution_count": 1,
   "id": "d0bd3b52-17a0-4f61-a92c-f45a3784aa91",
   "metadata": {},
   "outputs": [],
   "source": [
    "# ques 1. What is a Python library? Why ^o we use Python libraries?\n",
    "\n",
    "# Ans- Collection of function or a collection of code that makes everyday tasks more efficient called  Python Library. \n",
    "#It is also called numerical library .\n",
    "# we use it because it is the fastest one. "
   ]
  },
  {
   "cell_type": "code",
   "execution_count": 4,
   "id": "44bafddd-ddc8-47e8-99fe-108b62632daf",
   "metadata": {},
   "outputs": [
    {
     "data": {
      "text/plain": [
       "'Both lists and arrays may hold ordered objects and are changeable.\\nArrays can only hold elements of the same type, whereas lists may store elements of multiple types.\\nCompared to arrays, lists are more flexible since they don’t require explicit looping to print their elements.\\nWhile we can perform arithmetic operations directly on arrays, we are unable to do so on lists.'"
      ]
     },
     "execution_count": 4,
     "metadata": {},
     "output_type": "execute_result"
    }
   ],
   "source": [
    "#  ques 2 - Difference between Numpy array and List?\n",
    "'''Both lists and arrays may hold ordered objects and are changeable.\n",
    "Arrays can only hold elements of the same type, whereas lists may store elements of multiple types.\n",
    "Compared to arrays, lists are more flexible since they don’t require explicit looping to print their elements.\n",
    "While we can perform arithmetic operations directly on arrays, we are unable to do so on lists.'''"
   ]
  },
  {
   "cell_type": "code",
   "execution_count": 5,
   "id": "7fde05bd-a44a-4239-ac45-f89028cf5ceb",
   "metadata": {},
   "outputs": [
    {
     "data": {
      "text/plain": [
       "'Find the shape, size and dimension of the following array?\\n[[1, 2, 3, 4]\\n[5, 6, 7, 8],\\n[9, 10, 11, 12]]'"
      ]
     },
     "execution_count": 5,
     "metadata": {},
     "output_type": "execute_result"
    }
   ],
   "source": [
    "''' ques 3- Find the shape, size and dimension of the following array?\n",
    "[[1, 2, 3, 4]\n",
    "[5, 6, 7, 8],\n",
    "[9, 10, 11, 12]]'''"
   ]
  },
  {
   "cell_type": "code",
   "execution_count": 8,
   "id": "1f7d6113-68a3-4024-8cd2-4af96553b9ac",
   "metadata": {},
   "outputs": [],
   "source": [
    "import numpy as np\n"
   ]
  },
  {
   "cell_type": "code",
   "execution_count": 9,
   "id": "fcace939-0801-489e-b243-4e5cfa8cd9d2",
   "metadata": {},
   "outputs": [],
   "source": [
    "arr= np.array([[1, 2, 3, 4],\n",
    "[5, 6, 7, 8],\n",
    "[9, 10, 11, 12]])"
   ]
  },
  {
   "cell_type": "code",
   "execution_count": 14,
   "id": "4021805f-358a-45c8-a434-d24d4201b002",
   "metadata": {},
   "outputs": [
    {
     "data": {
      "text/plain": [
       "12"
      ]
     },
     "execution_count": 14,
     "metadata": {},
     "output_type": "execute_result"
    }
   ],
   "source": [
    "arr.size # find size "
   ]
  },
  {
   "cell_type": "code",
   "execution_count": 16,
   "id": "cda53724-dbe6-4f61-9066-9a9319940ae9",
   "metadata": {},
   "outputs": [
    {
     "data": {
      "text/plain": [
       "(3, 4)"
      ]
     },
     "execution_count": 16,
     "metadata": {},
     "output_type": "execute_result"
    }
   ],
   "source": [
    "arr.shape # finding shape "
   ]
  },
  {
   "cell_type": "code",
   "execution_count": 17,
   "id": "3a4f83df-74a5-46a5-ae8a-c849b08ad7a9",
   "metadata": {},
   "outputs": [
    {
     "data": {
      "text/plain": [
       "2"
      ]
     },
     "execution_count": 17,
     "metadata": {},
     "output_type": "execute_result"
    }
   ],
   "source": [
    "arr.ndim # finding the dimenion of array "
   ]
  },
  {
   "cell_type": "code",
   "execution_count": 18,
   "id": "69ec0b78-f2c1-453d-9266-b5143ae1a92d",
   "metadata": {},
   "outputs": [],
   "source": [
    "# ques 4 - Write python co^e to access the first row of the following array?\n",
    "arr= np.array([[1, 2, 3, 4],\n",
    "[5, 6, 7, 8],\n",
    "[9, 10, 11, 12]])\n"
   ]
  },
  {
   "cell_type": "code",
   "execution_count": 19,
   "id": "2b5da536-d399-47e7-a7ce-618f49430bf7",
   "metadata": {},
   "outputs": [
    {
     "data": {
      "text/plain": [
       "array([[ 1,  2,  3,  4],\n",
       "       [ 5,  6,  7,  8],\n",
       "       [ 9, 10, 11, 12]])"
      ]
     },
     "execution_count": 19,
     "metadata": {},
     "output_type": "execute_result"
    }
   ],
   "source": [
    "arr"
   ]
  },
  {
   "cell_type": "code",
   "execution_count": 20,
   "id": "367adc7e-6ec5-4ebf-aa91-489c14a41a94",
   "metadata": {},
   "outputs": [
    {
     "data": {
      "text/plain": [
       "array([1, 2, 3, 4])"
      ]
     },
     "execution_count": 20,
     "metadata": {},
     "output_type": "execute_result"
    }
   ],
   "source": [
    "arr[0] # access firt row of an array "
   ]
  },
  {
   "cell_type": "code",
   "execution_count": 28,
   "id": "f8f17cfc-37c4-407a-afc6-b12579946194",
   "metadata": {},
   "outputs": [],
   "source": [
    "#ques 7 -generate a ran^om 3x3 matrix with values between 0 an^ 1?\n",
    "\n",
    "arr=np.random.randint(0,1, (3,3))"
   ]
  },
  {
   "cell_type": "code",
   "execution_count": 30,
   "id": "6b0a5a0b-fc9a-445d-9122-b54f42d7478e",
   "metadata": {},
   "outputs": [
    {
     "data": {
      "text/plain": [
       "array([[0, 0, 0],\n",
       "       [0, 0, 0],\n",
       "       [0, 0, 0]])"
      ]
     },
     "execution_count": 30,
     "metadata": {},
     "output_type": "execute_result"
    }
   ],
   "source": [
    "arr"
   ]
  },
  {
   "cell_type": "code",
   "execution_count": 35,
   "id": "d673682d-fe38-4f63-95f9-741a636f1b15",
   "metadata": {},
   "outputs": [],
   "source": [
    "arr=np.random.randint(0,1, (3,3))"
   ]
  },
  {
   "cell_type": "code",
   "execution_count": 36,
   "id": "96a37146-45d9-406d-a5dd-6aad11e3fc74",
   "metadata": {},
   "outputs": [
    {
     "data": {
      "text/plain": [
       "array([[0, 0, 0],\n",
       "       [0, 0, 0],\n",
       "       [0, 0, 0]])"
      ]
     },
     "execution_count": 36,
     "metadata": {},
     "output_type": "execute_result"
    }
   ],
   "source": [
    "arr"
   ]
  },
  {
   "cell_type": "code",
   "execution_count": 2,
   "id": "4961e2a6-2e27-4d57-a3b9-9084be2a24d3",
   "metadata": {},
   "outputs": [
    {
     "data": {
      "text/plain": [
       "'np.random.rand\\nThis function generates random numbers from a uniform distribution over the range [0, 1).\\nIt takes dimensions as arguments and returns an array of random values with those dimensions.\\nnp.random.randn\\nThis function generates random numbers from a standard normal distribution (mean=0, standard deviation=1).\\nIt also takes dimensions as arguments and returns an array of random values with those dimensions'"
      ]
     },
     "execution_count": 2,
     "metadata": {},
     "output_type": "execute_result"
    }
   ],
   "source": [
    "# ques 8 -Describe the ^ifference between np.ran^om.ran^ an^ np.ran^om.ran^n?\n",
    "\n",
    "#Ans- np.random.rand:\n",
    "\n",
    "\"\"\"np.random.rand\n",
    "This function generates random numbers from a uniform distribution over the range [0, 1).\n",
    "It takes dimensions as arguments and returns an array of random values with those dimensions.\n",
    "np.random.randn\n",
    "This function generates random numbers from a standard normal distribution (mean=0, standard deviation=1).\n",
    "It also takes dimensions as arguments and returns an array of random values with those dimensions\"\"\"                                                                                  "
   ]
  },
  {
   "cell_type": "code",
   "execution_count": 3,
   "id": "a4051f2c-ba9d-4519-a2fe-1e7610c4f58b",
   "metadata": {},
   "outputs": [],
   "source": [
    "#ques 9 - Write co^e to increase the ^imension of the following array?"
   ]
  },
  {
   "cell_type": "code",
   "execution_count": 6,
   "id": "3728e7cb-8393-41e6-9747-e5459f7bf472",
   "metadata": {},
   "outputs": [],
   "source": [
    "import numpy as np\n",
    "\n",
    "# Original 2D array\n",
    "original_array = np.array([[1, 2, 3, 4],\n",
    "                           [5, 6, 7, 8],\n",
    "                           [9, 10, 11, 12]])\n",
    "\n",
    "# Reshape to a 3D array with shape (1, 3, 4)\n",
    "increased_dimension_array = original_array.reshape(1, 3, 4)"
   ]
  },
  {
   "cell_type": "code",
   "execution_count": 8,
   "id": "3c33efd4-5438-429b-ba23-be45db04dd5f",
   "metadata": {},
   "outputs": [
    {
     "data": {
      "text/plain": [
       "array([[[ 1,  2,  3,  4],\n",
       "        [ 5,  6,  7,  8],\n",
       "        [ 9, 10, 11, 12]]])"
      ]
     },
     "execution_count": 8,
     "metadata": {},
     "output_type": "execute_result"
    }
   ],
   "source": [
    "increased_dimension_array "
   ]
  },
  {
   "cell_type": "code",
   "execution_count": 9,
   "id": "98c33b7b-bbdc-4e8d-9887-247dac2bfee5",
   "metadata": {},
   "outputs": [],
   "source": [
    "#ques 10- How to transpose the following array in NumPy?"
   ]
  },
  {
   "cell_type": "code",
   "execution_count": 10,
   "id": "2a18d079-c5f6-447c-8280-243df3c05bbc",
   "metadata": {},
   "outputs": [
    {
     "name": "stdout",
     "output_type": "stream",
     "text": [
      "Original array:\n",
      "[[ 1  2  3  4]\n",
      " [ 5  6  7  8]\n",
      " [ 9 10 11 12]]\n",
      "\n",
      "Transposed array:\n",
      "[[ 1  5  9]\n",
      " [ 2  6 10]\n",
      " [ 3  7 11]\n",
      " [ 4  8 12]]\n"
     ]
    }
   ],
   "source": [
    "\n",
    "# Original array\n",
    "original_array = np.array([[1, 2, 3, 4],\n",
    "                           [5, 6, 7, 8],\n",
    "                           [9, 10, 11, 12]])\n",
    "\n",
    "# Transpose using numpy.transpose\n",
    "transposed_array = np.transpose(original_array)\n",
    "\n",
    "# Alternatively, you can use the .T attribute\n",
    "# transposed_array = original_array.T\n",
    "\n",
    "print(\"Original array:\")\n",
    "print(original_array)\n",
    "\n",
    "print(\"\\nTransposed array:\")\n",
    "print(transposed_array)"
   ]
  },
  {
   "cell_type": "code",
   "execution_count": 12,
   "id": "36fecf2b-6e62-4915-a698-66ce3977c5f3",
   "metadata": {},
   "outputs": [],
   "source": [
    "# ques 11- Consi^er the following matrix:\n"
   ]
  },
  {
   "cell_type": "code",
   "execution_count": 16,
   "id": "45192040-4bf2-4cbe-9d66-9d66fbb336b4",
   "metadata": {},
   "outputs": [],
   "source": [
    "\n",
    "# Matrix A\n",
    "matrix_A = np.array([[1, 2, 3, 4],\n",
    "                     [5, 6, 7, 8],\n",
    "                     [9, 10, 11, 12]])\n",
    "\n",
    "# Matrix B\n",
    "matrix_B = np.array([[1, 2, 3, 4],\n",
    "                     [5, 6, 7, 8],\n",
    "                     [9, 10, 11, 12]])"
   ]
  },
  {
   "cell_type": "code",
   "execution_count": 17,
   "id": "4ae0cb3d-7c41-4685-b3de-c9a735a21cc4",
   "metadata": {},
   "outputs": [
    {
     "data": {
      "text/plain": [
       "array([[  1,   4,   9,  16],\n",
       "       [ 25,  36,  49,  64],\n",
       "       [ 81, 100, 121, 144]])"
      ]
     },
     "execution_count": 17,
     "metadata": {},
     "output_type": "execute_result"
    }
   ],
   "source": [
    "# index wise multiplication \n",
    "matrix_A * matrix_B"
   ]
  },
  {
   "cell_type": "code",
   "execution_count": 20,
   "id": "dbc02893-b43d-4fce-acf1-52d9f84b9eec",
   "metadata": {},
   "outputs": [
    {
     "data": {
      "text/plain": [
       "array([[ 30,  70, 110],\n",
       "       [ 70, 174, 278],\n",
       "       [110, 278, 446]])"
      ]
     },
     "execution_count": 20,
     "metadata": {},
     "output_type": "execute_result"
    }
   ],
   "source": [
    "#matrix_multiplication \n",
    "np.dot(matrix_A, matrix_B.T)"
   ]
  },
  {
   "cell_type": "code",
   "execution_count": 21,
   "id": "7291ff29-a82d-4bd7-8ced-7f5543e806b6",
   "metadata": {},
   "outputs": [
    {
     "data": {
      "text/plain": [
       "array([[ 2,  4,  6,  8],\n",
       "       [10, 12, 14, 16],\n",
       "       [18, 20, 22, 24]])"
      ]
     },
     "execution_count": 21,
     "metadata": {},
     "output_type": "execute_result"
    }
   ],
   "source": [
    "#matrix_addition\n",
    "matrix_A + matrix_B"
   ]
  },
  {
   "cell_type": "code",
   "execution_count": 22,
   "id": "5723e302-5d2a-411f-a51e-3b0aee694d11",
   "metadata": {},
   "outputs": [
    {
     "data": {
      "text/plain": [
       "array([[0, 0, 0, 0],\n",
       "       [0, 0, 0, 0],\n",
       "       [0, 0, 0, 0]])"
      ]
     },
     "execution_count": 22,
     "metadata": {},
     "output_type": "execute_result"
    }
   ],
   "source": [
    "# matrix_subtraction\n",
    "matrix_A - matrix_B"
   ]
  },
  {
   "cell_type": "code",
   "execution_count": 23,
   "id": "e7ae84b0-69b3-4cd9-94bc-1c8d1e278cb8",
   "metadata": {},
   "outputs": [
    {
     "data": {
      "text/plain": [
       "array([[1., 1., 1., 1.],\n",
       "       [1., 1., 1., 1.],\n",
       "       [1., 1., 1., 1.]])"
      ]
     },
     "execution_count": 23,
     "metadata": {},
     "output_type": "execute_result"
    }
   ],
   "source": [
    "# matrix_division\n",
    "np.divide(matrix_B, matrix_A)"
   ]
  },
  {
   "cell_type": "code",
   "execution_count": 24,
   "id": "021d71f6-1e58-431d-b0c5-37239256b3f2",
   "metadata": {},
   "outputs": [],
   "source": [
    "# ques 12 - Which function in Numpy can be use^ to swap the byte or^er of an array?\n",
    "\n",
    "# In NumPy, We  can use the byteswap function to swap the byte order of an array. The byteswap function is available as a method of the NumPy array object.\n",
    "#It can be used to change the endianness (byte order) of the data in the array."
   ]
  },
  {
   "cell_type": "code",
   "execution_count": 25,
   "id": "073e5017-320d-4253-aa70-2991c3a2062c",
   "metadata": {},
   "outputs": [],
   "source": [
    "# ques 13 -What is the significance of the np.linalg.inv function?\n",
    "# The np.linalg.inv function in NumPy is used to compute the (multiplicative) inverse of a square matrix.\n",
    "#In linear algebra, the inverse of a matrix A, denoted as A^(-1),\n",
    "#is such that when A is multiplied by its inverse, the result is the identity matrix."
   ]
  },
  {
   "cell_type": "code",
   "execution_count": 26,
   "id": "260eb8bc-c09c-4bd5-8064-e4de07f4647c",
   "metadata": {},
   "outputs": [
    {
     "data": {
      "text/plain": [
       "' \\nThe np.reshape function in NumPy is used to change the shape of an array without changing its data.\\nIt allows you to give a new shape to an existing array without altering its elements. The new shape must have the same number of elements as the original array. \\nThis function returns a new array with the specified shape.'"
      ]
     },
     "execution_count": 26,
     "metadata": {},
     "output_type": "execute_result"
    }
   ],
   "source": [
    "#ques 14 - What ^oes the np.reshape function ^o, an^ how is it use^?\n",
    "\"\"\" \n",
    "The np.reshape function in NumPy is used to change the shape of an array without changing its data.\n",
    "It allows you to give a new shape to an existing array without altering its elements. The new shape must have the same number of elements as the original array. \n",
    "This function returns a new array with the specified shape.\"\"\""
   ]
  },
  {
   "cell_type": "code",
   "execution_count": 27,
   "id": "2a335818-9ed4-4124-ac39-da896b159b3d",
   "metadata": {},
   "outputs": [
    {
     "data": {
      "text/plain": [
       "'Broadcasting in NumPy is a powerful mechanism that allows for performing element-wise operations on arrays of different shapes and sizes.\\nIt enables NumPy to work with arrays of different shapes during arithmetic operations without explicitly reshaping them, making code more concise and efficient.\\n\\nThe broadcasting rules are applied when performing binary operations (addition, subtraction, multiplication, etc.) on arrays with different shapes. \\nThe smaller array is \"broadcast\" across the larger array so that they have compatible shapes for the operation.'"
      ]
     },
     "execution_count": 27,
     "metadata": {},
     "output_type": "execute_result"
    }
   ],
   "source": [
    "# quews 15 - What is broa^casting in Numpy?\n",
    "\"\"\"Broadcasting in NumPy is a powerful mechanism that allows for performing element-wise operations on arrays of different shapes and sizes.\n",
    "It enables NumPy to work with arrays of different shapes during arithmetic operations without explicitly reshaping them, making code more concise and efficient.\n",
    "\n",
    "The broadcasting rules are applied when performing binary operations (addition, subtraction, multiplication, etc.) on arrays with different shapes. \n",
    "The smaller array is \"broadcast\" across the larger array so that they have compatible shapes for the operation.\"\"\""
   ]
  },
  {
   "cell_type": "code",
   "execution_count": null,
   "id": "7959469d-52d7-401f-a15e-b97c32313d17",
   "metadata": {},
   "outputs": [],
   "source": []
  }
 ],
 "metadata": {
  "kernelspec": {
   "display_name": "Python 3 (ipykernel)",
   "language": "python",
   "name": "python3"
  },
  "language_info": {
   "codemirror_mode": {
    "name": "ipython",
    "version": 3
   },
   "file_extension": ".py",
   "mimetype": "text/x-python",
   "name": "python",
   "nbconvert_exporter": "python",
   "pygments_lexer": "ipython3",
   "version": "3.10.8"
  }
 },
 "nbformat": 4,
 "nbformat_minor": 5
}
